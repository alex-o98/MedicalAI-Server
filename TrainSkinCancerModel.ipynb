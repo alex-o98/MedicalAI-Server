{
 "cells": [
  {
   "cell_type": "markdown",
   "id": "18bda52c",
   "metadata": {
    "papermill": {
     "duration": 0.015016,
     "end_time": "2021-08-16T15:07:02.449515",
     "exception": false,
     "start_time": "2021-08-16T15:07:02.434499",
     "status": "completed"
    },
    "tags": []
   },
   "source": [
    "## Neural Network model for skin cancer recognition\n",
    "\n",
    "The following notebook contains different methods and takes for creating a model to use for the skin cancer detection app called Medical AI.\n",
    "\n",
    "The Dataset used is a resized version of this dataset: https://www.kaggle.com/kmader/skin-cancer-mnist-ham10000. All the images have been resized to 256x256.\n",
    "\n",
    "The goal is to train multiple models in order to see which one performs best for our application.\n"
   ]
  },
  {
   "cell_type": "markdown",
   "id": "d0f514ce",
   "metadata": {
    "papermill": {
     "duration": 0.013917,
     "end_time": "2021-08-16T15:07:02.477523",
     "exception": false,
     "start_time": "2021-08-16T15:07:02.463606",
     "status": "completed"
    },
    "tags": []
   },
   "source": [
    "\n",
    "\n",
    "\n"
   ]
  },
  {
   "cell_type": "code",
   "execution_count": null,
   "id": "1fe54df1",
   "metadata": {
    "papermill": {
     "duration": 0.013684,
     "end_time": "2021-08-16T15:07:02.505161",
     "exception": false,
     "start_time": "2021-08-16T15:07:02.491477",
     "status": "completed"
    },
    "tags": []
   },
   "outputs": [],
   "source": []
  },
  {
   "cell_type": "markdown",
   "id": "f219108f",
   "metadata": {
    "papermill": {
     "duration": 0.013945,
     "end_time": "2021-08-16T15:07:02.532937",
     "exception": false,
     "start_time": "2021-08-16T15:07:02.518992",
     "status": "completed"
    },
    "tags": []
   },
   "source": [
    "## 1. Importing libraries\n",
    "\n",
    "Here we import the different libraries and initialize some default values"
   ]
  },
  {
   "cell_type": "code",
   "execution_count": 1,
   "id": "46e76ef9",
   "metadata": {
    "execution": {
     "iopub.execute_input": "2021-08-16T15:07:02.573807Z",
     "iopub.status.busy": "2021-08-16T15:07:02.573254Z",
     "iopub.status.idle": "2021-08-16T15:07:07.734757Z",
     "shell.execute_reply": "2021-08-16T15:07:07.734186Z",
     "shell.execute_reply.started": "2021-08-14T15:24:36.08656Z"
    },
    "papermill": {
     "duration": 5.188053,
     "end_time": "2021-08-16T15:07:07.734899",
     "exception": false,
     "start_time": "2021-08-16T15:07:02.546846",
     "status": "completed"
    },
    "tags": []
   },
   "outputs": [],
   "source": [
    "import numpy as np\n",
    "import pandas as pd\n",
    "import os\n",
    "\n",
    "import cv2\n",
    "import gc\n",
    "import matplotlib.pyplot as plt\n",
    "from sklearn.model_selection import train_test_split\n",
    "\n",
    "import keras\n",
    "from keras.utils.np_utils import to_categorical\n",
    "from keras.models import Sequential,Model\n",
    "from keras.layers import Dense, Conv2D, Flatten, Dropout, MaxPooling2D, GlobalAveragePooling2D\n",
    "\n",
    "# For generating more images\n",
    "from keras.preprocessing.image import ImageDataGenerator\n",
    "from keras.callbacks import ReduceLROnPlateau \n",
    "from sklearn.metrics import confusion_matrix, plot_confusion_matrix\n",
    "from sklearn.utils.multiclass import unique_labels\n",
    "from sklearn.metrics import f1_score\n",
    "\n",
    "# Configuration variables\n",
    "BATCH_SIZE = 16\n",
    "EPOCHS = 50\n",
    "IMG_SIZE = (128,128)\n",
    "TEST_RATIO = 0.20\n",
    "NUM_CLASSES = 7"
   ]
  },
  {
   "cell_type": "markdown",
   "id": "575383d9",
   "metadata": {
    "papermill": {
     "duration": 0.014402,
     "end_time": "2021-08-16T15:07:07.763626",
     "exception": false,
     "start_time": "2021-08-16T15:07:07.749224",
     "status": "completed"
    },
    "tags": []
   },
   "source": [
    "## 2. Reading and processing the dataset"
   ]
  },
  {
   "cell_type": "markdown",
   "id": "31159555",
   "metadata": {
    "papermill": {
     "duration": 0.013691,
     "end_time": "2021-08-16T15:07:07.791423",
     "exception": false,
     "start_time": "2021-08-16T15:07:07.777732",
     "status": "completed"
    },
    "tags": []
   },
   "source": [
    "Here we will read the CSV. We only care about the path and cell_type index, but maybe adding the age and other stuff will give better results."
   ]
  },
  {
   "cell_type": "code",
   "execution_count": 2,
   "id": "ded98b17",
   "metadata": {
    "execution": {
     "iopub.execute_input": "2021-08-16T15:07:07.822923Z",
     "iopub.status.busy": "2021-08-16T15:07:07.822407Z",
     "iopub.status.idle": "2021-08-16T15:07:07.825878Z",
     "shell.execute_reply": "2021-08-16T15:07:07.826303Z",
     "shell.execute_reply.started": "2021-08-14T15:24:41.052245Z"
    },
    "papermill": {
     "duration": 0.021114,
     "end_time": "2021-08-16T15:07:07.826425",
     "exception": false,
     "start_time": "2021-08-16T15:07:07.805311",
     "status": "completed"
    },
    "tags": []
   },
   "outputs": [],
   "source": [
    "# Directory and files variables\n",
    "CSV_PATH = \"../input/ham10000-resized/HAM10000.csv\"\n",
    "TRAIN_PATH = \"../input/ham10000-resized/HAM10000\""
   ]
  },
  {
   "cell_type": "code",
   "execution_count": 3,
   "id": "1f005009",
   "metadata": {
    "execution": {
     "iopub.execute_input": "2021-08-16T15:07:07.857939Z",
     "iopub.status.busy": "2021-08-16T15:07:07.857447Z",
     "iopub.status.idle": "2021-08-16T15:07:07.916767Z",
     "shell.execute_reply": "2021-08-16T15:07:07.916012Z",
     "shell.execute_reply.started": "2021-08-14T15:24:41.066953Z"
    },
    "papermill": {
     "duration": 0.076461,
     "end_time": "2021-08-16T15:07:07.916882",
     "exception": false,
     "start_time": "2021-08-16T15:07:07.840421",
     "status": "completed"
    },
    "tags": []
   },
   "outputs": [
    {
     "data": {
      "text/html": [
       "<div>\n",
       "<style scoped>\n",
       "    .dataframe tbody tr th:only-of-type {\n",
       "        vertical-align: middle;\n",
       "    }\n",
       "\n",
       "    .dataframe tbody tr th {\n",
       "        vertical-align: top;\n",
       "    }\n",
       "\n",
       "    .dataframe thead th {\n",
       "        text-align: right;\n",
       "    }\n",
       "</style>\n",
       "<table border=\"1\" class=\"dataframe\">\n",
       "  <thead>\n",
       "    <tr style=\"text-align: right;\">\n",
       "      <th></th>\n",
       "      <th>lesion_id</th>\n",
       "      <th>image_id</th>\n",
       "      <th>dx</th>\n",
       "      <th>dx_type</th>\n",
       "      <th>age</th>\n",
       "      <th>sex</th>\n",
       "      <th>localization</th>\n",
       "    </tr>\n",
       "  </thead>\n",
       "  <tbody>\n",
       "    <tr>\n",
       "      <th>0</th>\n",
       "      <td>HAM_0000118</td>\n",
       "      <td>ISIC_0027419</td>\n",
       "      <td>bkl</td>\n",
       "      <td>histo</td>\n",
       "      <td>80.0</td>\n",
       "      <td>male</td>\n",
       "      <td>scalp</td>\n",
       "    </tr>\n",
       "    <tr>\n",
       "      <th>1</th>\n",
       "      <td>HAM_0000118</td>\n",
       "      <td>ISIC_0025030</td>\n",
       "      <td>bkl</td>\n",
       "      <td>histo</td>\n",
       "      <td>80.0</td>\n",
       "      <td>male</td>\n",
       "      <td>scalp</td>\n",
       "    </tr>\n",
       "    <tr>\n",
       "      <th>2</th>\n",
       "      <td>HAM_0002730</td>\n",
       "      <td>ISIC_0026769</td>\n",
       "      <td>bkl</td>\n",
       "      <td>histo</td>\n",
       "      <td>80.0</td>\n",
       "      <td>male</td>\n",
       "      <td>scalp</td>\n",
       "    </tr>\n",
       "    <tr>\n",
       "      <th>3</th>\n",
       "      <td>HAM_0002730</td>\n",
       "      <td>ISIC_0025661</td>\n",
       "      <td>bkl</td>\n",
       "      <td>histo</td>\n",
       "      <td>80.0</td>\n",
       "      <td>male</td>\n",
       "      <td>scalp</td>\n",
       "    </tr>\n",
       "    <tr>\n",
       "      <th>4</th>\n",
       "      <td>HAM_0001466</td>\n",
       "      <td>ISIC_0031633</td>\n",
       "      <td>bkl</td>\n",
       "      <td>histo</td>\n",
       "      <td>75.0</td>\n",
       "      <td>male</td>\n",
       "      <td>ear</td>\n",
       "    </tr>\n",
       "  </tbody>\n",
       "</table>\n",
       "</div>"
      ],
      "text/plain": [
       "     lesion_id      image_id   dx dx_type   age   sex localization\n",
       "0  HAM_0000118  ISIC_0027419  bkl   histo  80.0  male        scalp\n",
       "1  HAM_0000118  ISIC_0025030  bkl   histo  80.0  male        scalp\n",
       "2  HAM_0002730  ISIC_0026769  bkl   histo  80.0  male        scalp\n",
       "3  HAM_0002730  ISIC_0025661  bkl   histo  80.0  male        scalp\n",
       "4  HAM_0001466  ISIC_0031633  bkl   histo  75.0  male          ear"
      ]
     },
     "execution_count": 3,
     "metadata": {},
     "output_type": "execute_result"
    }
   ],
   "source": [
    "df = pd.read_csv(CSV_PATH)\n",
    "df.head()"
   ]
  },
  {
   "cell_type": "code",
   "execution_count": 4,
   "id": "2791f6c5",
   "metadata": {
    "execution": {
     "iopub.execute_input": "2021-08-16T15:07:07.957009Z",
     "iopub.status.busy": "2021-08-16T15:07:07.956419Z",
     "iopub.status.idle": "2021-08-16T15:07:07.959533Z",
     "shell.execute_reply": "2021-08-16T15:07:07.959919Z",
     "shell.execute_reply.started": "2021-08-14T15:24:41.150939Z"
    },
    "papermill": {
     "duration": 0.028537,
     "end_time": "2021-08-16T15:07:07.960047",
     "exception": false,
     "start_time": "2021-08-16T15:07:07.931510",
     "status": "completed"
    },
    "tags": []
   },
   "outputs": [
    {
     "data": {
      "text/html": [
       "<div>\n",
       "<style scoped>\n",
       "    .dataframe tbody tr th:only-of-type {\n",
       "        vertical-align: middle;\n",
       "    }\n",
       "\n",
       "    .dataframe tbody tr th {\n",
       "        vertical-align: top;\n",
       "    }\n",
       "\n",
       "    .dataframe thead th {\n",
       "        text-align: right;\n",
       "    }\n",
       "</style>\n",
       "<table border=\"1\" class=\"dataframe\">\n",
       "  <thead>\n",
       "    <tr style=\"text-align: right;\">\n",
       "      <th></th>\n",
       "      <th>image_id</th>\n",
       "      <th>dx</th>\n",
       "    </tr>\n",
       "  </thead>\n",
       "  <tbody>\n",
       "    <tr>\n",
       "      <th>0</th>\n",
       "      <td>ISIC_0027419</td>\n",
       "      <td>bkl</td>\n",
       "    </tr>\n",
       "    <tr>\n",
       "      <th>1</th>\n",
       "      <td>ISIC_0025030</td>\n",
       "      <td>bkl</td>\n",
       "    </tr>\n",
       "    <tr>\n",
       "      <th>2</th>\n",
       "      <td>ISIC_0026769</td>\n",
       "      <td>bkl</td>\n",
       "    </tr>\n",
       "    <tr>\n",
       "      <th>3</th>\n",
       "      <td>ISIC_0025661</td>\n",
       "      <td>bkl</td>\n",
       "    </tr>\n",
       "    <tr>\n",
       "      <th>4</th>\n",
       "      <td>ISIC_0031633</td>\n",
       "      <td>bkl</td>\n",
       "    </tr>\n",
       "  </tbody>\n",
       "</table>\n",
       "</div>"
      ],
      "text/plain": [
       "       image_id   dx\n",
       "0  ISIC_0027419  bkl\n",
       "1  ISIC_0025030  bkl\n",
       "2  ISIC_0026769  bkl\n",
       "3  ISIC_0025661  bkl\n",
       "4  ISIC_0031633  bkl"
      ]
     },
     "execution_count": 4,
     "metadata": {},
     "output_type": "execute_result"
    }
   ],
   "source": [
    "# From the above, we drop the unnecessary rows\n",
    "df.drop(['lesion_id', 'dx_type','age','sex','localization'], axis=1, inplace=True)\n",
    "df.head()"
   ]
  },
  {
   "cell_type": "code",
   "execution_count": null,
   "id": "6c529a57",
   "metadata": {
    "papermill": {
     "duration": 0.014656,
     "end_time": "2021-08-16T15:07:07.989316",
     "exception": false,
     "start_time": "2021-08-16T15:07:07.974660",
     "status": "completed"
    },
    "tags": []
   },
   "outputs": [],
   "source": []
  },
  {
   "cell_type": "code",
   "execution_count": 5,
   "id": "1b871210",
   "metadata": {
    "execution": {
     "iopub.execute_input": "2021-08-16T15:07:08.026755Z",
     "iopub.status.busy": "2021-08-16T15:07:08.024977Z",
     "iopub.status.idle": "2021-08-16T15:07:08.030318Z",
     "shell.execute_reply": "2021-08-16T15:07:08.029901Z",
     "shell.execute_reply.started": "2021-08-14T15:24:41.175314Z"
    },
    "papermill": {
     "duration": 0.026292,
     "end_time": "2021-08-16T15:07:08.030423",
     "exception": false,
     "start_time": "2021-08-16T15:07:08.004131",
     "status": "completed"
    },
    "tags": []
   },
   "outputs": [
    {
     "name": "stdout",
     "output_type": "stream",
     "text": [
      "Unique dx: ['bkl' 'nv' 'df' 'mel' 'vasc' 'bcc' 'akiec']\n"
     ]
    }
   ],
   "source": [
    "# The 'dx' is the target that we want to predict. We can see below what are the unique values of the 'dx'\n",
    "print(\"Unique dx:\",df.dx.unique())\n",
    "\n",
    "# We can define a dictionary with their full name, which could be useful in the future\n",
    "dx_names = df.dx.unique()\n",
    "full_name_dx = {'bkl':'Benign keratosis-like lesions',\n",
    "               'nv':'Melanocytic nevi',\n",
    "               'df':'Dermatofibroma',\n",
    "               'mel':'Melanoma',\n",
    "               'vasc':'Vascular lesions',\n",
    "               'bcc':'Basal cell carcinoma',\n",
    "               'akiec':'Actinic keratoses'}\n",
    "classes = ['bkl','nv','df','mel','vasc','bcc','akiec']"
   ]
  },
  {
   "cell_type": "code",
   "execution_count": 6,
   "id": "894bd205",
   "metadata": {
    "execution": {
     "iopub.execute_input": "2021-08-16T15:07:08.084542Z",
     "iopub.status.busy": "2021-08-16T15:07:08.083832Z",
     "iopub.status.idle": "2021-08-16T15:07:08.088415Z",
     "shell.execute_reply": "2021-08-16T15:07:08.088004Z",
     "shell.execute_reply.started": "2021-08-14T15:24:41.196684Z"
    },
    "papermill": {
     "duration": 0.043282,
     "end_time": "2021-08-16T15:07:08.088527",
     "exception": false,
     "start_time": "2021-08-16T15:07:08.045245",
     "status": "completed"
    },
    "tags": []
   },
   "outputs": [
    {
     "data": {
      "text/html": [
       "<div>\n",
       "<style scoped>\n",
       "    .dataframe tbody tr th:only-of-type {\n",
       "        vertical-align: middle;\n",
       "    }\n",
       "\n",
       "    .dataframe tbody tr th {\n",
       "        vertical-align: top;\n",
       "    }\n",
       "\n",
       "    .dataframe thead th {\n",
       "        text-align: right;\n",
       "    }\n",
       "</style>\n",
       "<table border=\"1\" class=\"dataframe\">\n",
       "  <thead>\n",
       "    <tr style=\"text-align: right;\">\n",
       "      <th></th>\n",
       "      <th>image_id</th>\n",
       "      <th>target</th>\n",
       "    </tr>\n",
       "  </thead>\n",
       "  <tbody>\n",
       "    <tr>\n",
       "      <th>0</th>\n",
       "      <td>ISIC_0027419.jpg</td>\n",
       "      <td>0</td>\n",
       "    </tr>\n",
       "    <tr>\n",
       "      <th>1</th>\n",
       "      <td>ISIC_0025030.jpg</td>\n",
       "      <td>0</td>\n",
       "    </tr>\n",
       "    <tr>\n",
       "      <th>2</th>\n",
       "      <td>ISIC_0026769.jpg</td>\n",
       "      <td>0</td>\n",
       "    </tr>\n",
       "    <tr>\n",
       "      <th>3</th>\n",
       "      <td>ISIC_0025661.jpg</td>\n",
       "      <td>0</td>\n",
       "    </tr>\n",
       "    <tr>\n",
       "      <th>4</th>\n",
       "      <td>ISIC_0031633.jpg</td>\n",
       "      <td>0</td>\n",
       "    </tr>\n",
       "  </tbody>\n",
       "</table>\n",
       "</div>"
      ],
      "text/plain": [
       "           image_id  target\n",
       "0  ISIC_0027419.jpg       0\n",
       "1  ISIC_0025030.jpg       0\n",
       "2  ISIC_0026769.jpg       0\n",
       "3  ISIC_0025661.jpg       0\n",
       "4  ISIC_0031633.jpg       0"
      ]
     },
     "execution_count": 6,
     "metadata": {},
     "output_type": "execute_result"
    }
   ],
   "source": [
    "# Encoding the targets in values from 0 to 7, and changing the name of the row from dx, to target\n",
    "\n",
    "def encode_targets(x):\n",
    "    # We hard code the function so that we are sure what the values are encoded\n",
    "    if x == \"bkl\":\n",
    "        return 0\n",
    "    if x == \"nv\":\n",
    "        return 1\n",
    "    if x == \"df\":\n",
    "        return 2\n",
    "    if x == \"mel\":\n",
    "        return 3\n",
    "    if x == \"vasc\":\n",
    "        return 4\n",
    "    if x == \"bcc\":\n",
    "        return 5\n",
    "    if x == \"akiec\":\n",
    "        return 6\n",
    "    \n",
    "df['target'] = df['dx'].apply(lambda x: encode_targets(x))\n",
    "df['image_id'] = df['image_id'].apply(lambda x: str(x)+\".jpg\")\n",
    "df.drop(['dx'], axis=1, inplace=True)\n",
    "df.head()"
   ]
  },
  {
   "cell_type": "markdown",
   "id": "82494392",
   "metadata": {
    "papermill": {
     "duration": 0.015371,
     "end_time": "2021-08-16T15:07:08.120124",
     "exception": false,
     "start_time": "2021-08-16T15:07:08.104753",
     "status": "completed"
    },
    "tags": []
   },
   "source": [
    "## 3. Preparing the data for training\n",
    "\n",
    "To prepare the data for training, we need to read the images and save them into arrays that we can feed to the models.\n"
   ]
  },
  {
   "cell_type": "code",
   "execution_count": null,
   "id": "07eae70a",
   "metadata": {
    "execution": {
     "iopub.execute_input": "2021-08-14T15:24:41.245682Z",
     "iopub.status.busy": "2021-08-14T15:24:41.243743Z",
     "iopub.status.idle": "2021-08-14T15:24:41.257843Z",
     "shell.execute_reply": "2021-08-14T15:24:41.256922Z",
     "shell.execute_reply.started": "2021-08-14T15:24:41.245645Z"
    },
    "papermill": {
     "duration": 0.015141,
     "end_time": "2021-08-16T15:07:08.150459",
     "exception": false,
     "start_time": "2021-08-16T15:07:08.135318",
     "status": "completed"
    },
    "tags": []
   },
   "outputs": [],
   "source": []
  },
  {
   "cell_type": "code",
   "execution_count": 7,
   "id": "a8f0b95d",
   "metadata": {
    "execution": {
     "iopub.execute_input": "2021-08-16T15:07:08.188500Z",
     "iopub.status.busy": "2021-08-16T15:07:08.185991Z",
     "iopub.status.idle": "2021-08-16T15:08:10.662048Z",
     "shell.execute_reply": "2021-08-16T15:08:10.661582Z"
    },
    "papermill": {
     "duration": 62.496501,
     "end_time": "2021-08-16T15:08:10.662219",
     "exception": false,
     "start_time": "2021-08-16T15:07:08.165718",
     "status": "completed"
    },
    "tags": []
   },
   "outputs": [
    {
     "name": "stderr",
     "output_type": "stream",
     "text": [
      "100%|██████████| 10015/10015 [01:02<00:00, 160.74it/s]\n"
     ]
    }
   ],
   "source": [
    "from tqdm import tqdm\n",
    "X = []\n",
    "y = []\n",
    "# cv2.reize(cv2.imread(x),IMG_SIZE)\n",
    "for i in tqdm(range(len(df))):\n",
    "    img = cv2.resize(cv2.imread(os.path.join(TRAIN_PATH,df.iloc[i].image_id)),IMG_SIZE)\n",
    "    X.append(img)\n",
    "    y.append(df.iloc[i].target)\n",
    "    \n",
    "X = np.asarray(X)\n",
    "y = np.asarray(y)\n",
    "\n",
    "y = to_categorical(y, num_classes = NUM_CLASSES)"
   ]
  },
  {
   "cell_type": "code",
   "execution_count": 8,
   "id": "2c7a20c2",
   "metadata": {
    "execution": {
     "iopub.execute_input": "2021-08-16T15:08:11.007197Z",
     "iopub.status.busy": "2021-08-16T15:08:11.005890Z",
     "iopub.status.idle": "2021-08-16T15:08:11.147119Z",
     "shell.execute_reply": "2021-08-16T15:08:11.146656Z"
    },
    "papermill": {
     "duration": 0.317578,
     "end_time": "2021-08-16T15:08:11.147258",
     "exception": false,
     "start_time": "2021-08-16T15:08:10.829680",
     "status": "completed"
    },
    "tags": []
   },
   "outputs": [
    {
     "name": "stdout",
     "output_type": "stream",
     "text": [
      "Number of training images:  8012\n",
      "Number of testing images:  2003\n"
     ]
    }
   ],
   "source": [
    "x_train, x_test, y_train, y_test = train_test_split(X, y, test_size = TEST_RATIO, shuffle = True, random_state = 12345)\n",
    "print(\"Number of training images: \",x_train.shape[0])\n",
    "print(\"Number of testing images: \",x_test.shape[0])"
   ]
  },
  {
   "cell_type": "markdown",
   "id": "2798f0f3",
   "metadata": {
    "papermill": {
     "duration": 0.161739,
     "end_time": "2021-08-16T15:08:11.473627",
     "exception": false,
     "start_time": "2021-08-16T15:08:11.311888",
     "status": "completed"
    },
    "tags": []
   },
   "source": [
    "## 4. Creating the model and auxiliary functions"
   ]
  },
  {
   "cell_type": "code",
   "execution_count": 9,
   "id": "038b69b7",
   "metadata": {
    "execution": {
     "iopub.execute_input": "2021-08-16T15:08:11.810558Z",
     "iopub.status.busy": "2021-08-16T15:08:11.809148Z",
     "iopub.status.idle": "2021-08-16T15:08:11.811350Z",
     "shell.execute_reply": "2021-08-16T15:08:11.811779Z"
    },
    "papermill": {
     "duration": 0.175861,
     "end_time": "2021-08-16T15:08:11.811902",
     "exception": false,
     "start_time": "2021-08-16T15:08:11.636041",
     "status": "completed"
    },
    "tags": []
   },
   "outputs": [],
   "source": [
    "def create_model(X,y,X_tst,y_tst,model,epochs = 50,batch_size = 16):\n",
    "    \n",
    "    # Creating a generator for generating multiple images\n",
    "    datagen = ImageDataGenerator(zca_whitening=False, # no zca whitening\n",
    "                                 rotation_range=45,  # max 45 degrees rotations\n",
    "                                 width_shift_range=0.1,  # randomly shift images horizontally (10% of total width)\n",
    "                                 height_shift_range=0.1,  # randomly shift images vertically (10% of total height)\n",
    "                                 zoom_range = 0.1, # max 10% zoom on the image. Not bigger because it could take out a big part of the lesion\n",
    "                                 horizontal_flip=True,  # random flip horizontal\n",
    "                                 vertical_flip=True)  # random flip vertical    \n",
    "    datagen.fit(X)\n",
    "    \n",
    "    \n",
    "    x = model.output # Take the last layer of our model ...\n",
    "    x = GlobalAveragePooling2D()(x) # ... then we append a GlobalAveragePooling2D layer to it.      \n",
    "    x = Dense(1024, activation='relu')(x) # After we add a layer with 1024 dense nodes that have a relu activation\n",
    "    x = Dropout(0.25)(x) # Add a dropout of 25% \n",
    "    \n",
    "    x = Dense(NUM_CLASSES, activation='softmax')(x) # The final layer is the output which has 7 classes (NUM_CLASSES)\n",
    "    \n",
    "    model = Model(inputs=model.input, outputs=x)\n",
    "    model.compile(loss='categorical_crossentropy', optimizer='adam', metrics=['accuracy'])\n",
    "\n",
    "        \n",
    "    # Creating a callback for when we train, that reduces the learning rate\n",
    "    # when we hit a plateau of 3 Epochs where we don't have an improvement\n",
    "    learning_rate_reduction = ReduceLROnPlateau(monitor='val_accuracy', \n",
    "                                                patience=3, \n",
    "                                                verbose=1, \n",
    "                                                factor=0.5, \n",
    "                                                min_lr=0.000005)\n",
    "    \n",
    "    # Start training the data\n",
    "    history = model.fit_generator(datagen.flow(X,\n",
    "                                               y, \n",
    "                                               batch_size=batch_size),                                  \n",
    "                                  steps_per_epoch=X.shape[0] // batch_size,\n",
    "                                  validation_steps=X_tst.shape[0] // batch_size,\n",
    "                                  epochs=epochs,\n",
    "                                  validation_data=(X_tst,y_tst), # We don't apply the ImageDataGenerator on the validation data\n",
    "                                  callbacks=[learning_rate_reduction],\n",
    "                                  verbose = 1)\n",
    "    \n",
    "    return model,history"
   ]
  },
  {
   "cell_type": "code",
   "execution_count": 10,
   "id": "6470ce60",
   "metadata": {
    "execution": {
     "iopub.execute_input": "2021-08-16T15:08:12.151188Z",
     "iopub.status.busy": "2021-08-16T15:08:12.150577Z",
     "iopub.status.idle": "2021-08-16T15:08:26.358352Z",
     "shell.execute_reply": "2021-08-16T15:08:26.357746Z"
    },
    "papermill": {
     "duration": 14.380344,
     "end_time": "2021-08-16T15:08:26.358495",
     "exception": false,
     "start_time": "2021-08-16T15:08:11.978151",
     "status": "completed"
    },
    "tags": []
   },
   "outputs": [
    {
     "name": "stdout",
     "output_type": "stream",
     "text": [
      "Collecting git+https://github.com/qubvel/efficientnet\r\n",
      "  Cloning https://github.com/qubvel/efficientnet to /tmp/pip-req-build-017ympmv\r\n",
      "  Running command git clone -q https://github.com/qubvel/efficientnet /tmp/pip-req-build-017ympmv\r\n",
      "Collecting keras_applications<=1.0.8,>=1.0.7\r\n",
      "  Downloading Keras_Applications-1.0.8-py3-none-any.whl (50 kB)\r\n",
      "\u001b[K     |████████████████████████████████| 50 kB 245 kB/s \r\n",
      "\u001b[?25hRequirement already satisfied: scikit-image in /opt/conda/lib/python3.7/site-packages (from efficientnet==1.1.1) (0.18.2)\r\n",
      "Requirement already satisfied: h5py in /opt/conda/lib/python3.7/site-packages (from keras_applications<=1.0.8,>=1.0.7->efficientnet==1.1.1) (2.10.0)\r\n",
      "Requirement already satisfied: numpy>=1.9.1 in /opt/conda/lib/python3.7/site-packages (from keras_applications<=1.0.8,>=1.0.7->efficientnet==1.1.1) (1.19.5)\r\n",
      "Requirement already satisfied: six in /opt/conda/lib/python3.7/site-packages (from h5py->keras_applications<=1.0.8,>=1.0.7->efficientnet==1.1.1) (1.15.0)\r\n",
      "Requirement already satisfied: imageio>=2.3.0 in /opt/conda/lib/python3.7/site-packages (from scikit-image->efficientnet==1.1.1) (2.9.0)\r\n",
      "Requirement already satisfied: pillow!=7.1.0,!=7.1.1,>=4.3.0 in /opt/conda/lib/python3.7/site-packages (from scikit-image->efficientnet==1.1.1) (8.2.0)\r\n",
      "Requirement already satisfied: tifffile>=2019.7.26 in /opt/conda/lib/python3.7/site-packages (from scikit-image->efficientnet==1.1.1) (2021.7.2)\r\n",
      "Requirement already satisfied: matplotlib!=3.0.0,>=2.0.0 in /opt/conda/lib/python3.7/site-packages (from scikit-image->efficientnet==1.1.1) (3.4.2)\r\n",
      "Requirement already satisfied: networkx>=2.0 in /opt/conda/lib/python3.7/site-packages (from scikit-image->efficientnet==1.1.1) (2.5)\r\n",
      "Requirement already satisfied: scipy>=1.0.1 in /opt/conda/lib/python3.7/site-packages (from scikit-image->efficientnet==1.1.1) (1.6.3)\r\n",
      "Requirement already satisfied: PyWavelets>=1.1.1 in /opt/conda/lib/python3.7/site-packages (from scikit-image->efficientnet==1.1.1) (1.1.1)\r\n",
      "Requirement already satisfied: cycler>=0.10 in /opt/conda/lib/python3.7/site-packages (from matplotlib!=3.0.0,>=2.0.0->scikit-image->efficientnet==1.1.1) (0.10.0)\r\n",
      "Requirement already satisfied: python-dateutil>=2.7 in /opt/conda/lib/python3.7/site-packages (from matplotlib!=3.0.0,>=2.0.0->scikit-image->efficientnet==1.1.1) (2.8.1)\r\n",
      "Requirement already satisfied: pyparsing>=2.2.1 in /opt/conda/lib/python3.7/site-packages (from matplotlib!=3.0.0,>=2.0.0->scikit-image->efficientnet==1.1.1) (2.4.7)\r\n",
      "Requirement already satisfied: kiwisolver>=1.0.1 in /opt/conda/lib/python3.7/site-packages (from matplotlib!=3.0.0,>=2.0.0->scikit-image->efficientnet==1.1.1) (1.3.1)\r\n",
      "Requirement already satisfied: decorator>=4.3.0 in /opt/conda/lib/python3.7/site-packages (from networkx>=2.0->scikit-image->efficientnet==1.1.1) (5.0.9)\r\n",
      "Building wheels for collected packages: efficientnet\r\n",
      "  Building wheel for efficientnet (setup.py) ... \u001b[?25l-\b \b\\\b \bdone\r\n",
      "\u001b[?25h  Created wheel for efficientnet: filename=efficientnet-1.1.1-py3-none-any.whl size=18433 sha256=42ad086d813043b1e69de11039cd06712f660d4b9260544aa46170f9cf78894e\r\n",
      "  Stored in directory: /tmp/pip-ephem-wheel-cache-xx8ibtku/wheels/11/69/85/814d64d694c96db0eef17b718042d644a1e54f113920481920\r\n",
      "Successfully built efficientnet\r\n",
      "Installing collected packages: keras-applications, efficientnet\r\n",
      "Successfully installed efficientnet-1.1.1 keras-applications-1.0.8\r\n",
      "\u001b[33mWARNING: Running pip as root will break packages and permissions. You should install packages reliably by using venv: https://pip.pypa.io/warnings/venv\u001b[0m\r\n"
     ]
    }
   ],
   "source": [
    "!pip install -U git+https://github.com/qubvel/efficientnet\n",
    "import efficientnet.keras as efn\n",
    "weights_models = 'imagenet'"
   ]
  },
  {
   "cell_type": "code",
   "execution_count": 11,
   "id": "ee6cbadf",
   "metadata": {
    "execution": {
     "iopub.execute_input": "2021-08-16T15:08:26.746248Z",
     "iopub.status.busy": "2021-08-16T15:08:26.745251Z",
     "iopub.status.idle": "2021-08-16T15:08:26.747889Z",
     "shell.execute_reply": "2021-08-16T15:08:26.747357Z"
    },
    "papermill": {
     "duration": 0.205357,
     "end_time": "2021-08-16T15:08:26.748003",
     "exception": false,
     "start_time": "2021-08-16T15:08:26.542646",
     "status": "completed"
    },
    "tags": []
   },
   "outputs": [],
   "source": [
    "def train_and_test(x_train,y_train,x_test,y_test,mod,mod_name):\n",
    "    # Get the model and the model history, to plot it later \n",
    "    model,model_history = create_model(x_train,y_train,x_test,y_test,mod)\n",
    "    mod_name=\"TST\"\n",
    "    model.save(str(mod_name)+\".h5\")\n",
    "    loss, accuracy = model.evaluate(x_test, y_test, verbose=1)\n",
    "\n",
    "    print(\"Evaluation on test dataset: Accuracy: {:.4f} || Loss = {:.4f}\".format(accuracy, loss))\n",
    "\n",
    "    pred = model.predict(x_test)\n",
    "\n",
    "    pred = np.argmax(pred, axis=1)\n",
    "    y_test = np.argmax(y_test, axis=1)\n",
    "\n",
    "    print(\"~~~~~~~~~~~~~~~~~~~~~~~~~~~~~~\")\n",
    "    print(\"Printing confusion matrix. The values after are the accuracies, in order\")\n",
    "    cfm = confusion_matrix(y_test,pred)\n",
    "    print(cfm)\n",
    "    print(\"Accuracies:\")\n",
    "    for i in range(len(cfm)):\n",
    "        t = 0\n",
    "        n = 0\n",
    "        for j in range(len(cfm)):\n",
    "            if j == i:\n",
    "                t += cfm[i][j]\n",
    "            else:\n",
    "                n += cfm[i][j]\n",
    "\n",
    "        print(\"{}: {:2f}\".format(classes[i],t/(t+n)))\n",
    "\n",
    "\n",
    "    print(\"~~~~~~~~~~~~~~~~~~~~~~~~~~~~~~\")\n",
    "    print(\"\\n~~ Calculating the F1-Weighted scode ~~\\n\")\n",
    "    print(\"F1 Weighted:\",f1_score(y_test, pred, average='weighted'))\n",
    "\n",
    "\n",
    "    fig, axs = plt.subplots(1,2,figsize=(15,5))\n",
    "    # summarize history for accuracy\n",
    "    axs[0].plot(range(1,len(model_history.history['accuracy'])+1),model_history.history['accuracy'])\n",
    "    axs[0].plot(range(1,len(model_history.history['val_accuracy'])+1),model_history.history['val_accuracy'])\n",
    "    axs[0].set_title('Model Accuracy')\n",
    "    axs[0].set_ylabel('Accuracy')\n",
    "    axs[0].set_xlabel('Epoch')\n",
    "    axs[0].legend(['train', 'val'], loc='best')\n",
    "    # summarize history for loss\n",
    "    axs[1].plot(range(1,len(model_history.history['loss'])+1),model_history.history['loss'])\n",
    "    axs[1].plot(range(1,len(model_history.history['val_loss'])+1),model_history.history['val_loss'])\n",
    "    axs[1].set_title('Model Loss')\n",
    "    axs[1].set_ylabel('Loss')\n",
    "    axs[1].set_xlabel('Epoch')\n",
    "    axs[1].legend(['train', 'val'], loc='best')\n",
    "    plt.show()\n"
   ]
  },
  {
   "cell_type": "code",
   "execution_count": 12,
   "id": "ade0fc94",
   "metadata": {
    "execution": {
     "iopub.execute_input": "2021-08-16T15:08:27.127462Z",
     "iopub.status.busy": "2021-08-16T15:08:27.126822Z",
     "iopub.status.idle": "2021-08-16T15:57:49.818106Z",
     "shell.execute_reply": "2021-08-16T15:57:49.784104Z"
    },
    "papermill": {
     "duration": 2962.880513,
     "end_time": "2021-08-16T15:57:49.818239",
     "exception": false,
     "start_time": "2021-08-16T15:08:26.937726",
     "status": "completed"
    },
    "tags": []
   },
   "outputs": [
    {
     "name": "stdout",
     "output_type": "stream",
     "text": [
      "Downloading data from https://github.com/Callidior/keras-applications/releases/download/efficientnet/efficientnet-b2_weights_tf_dim_ordering_tf_kernels_autoaugment_notop.h5\n",
      "31940608/31936256 [==============================] - 1s 0us/step\n"
     ]
    },
    {
     "name": "stderr",
     "output_type": "stream",
     "text": [
      "/opt/conda/lib/python3.7/site-packages/tensorflow/python/keras/engine/training.py:1844: UserWarning: `Model.fit_generator` is deprecated and will be removed in a future version. Please use `Model.fit`, which supports generators.\n",
      "  warnings.warn('`Model.fit_generator` is deprecated and '\n"
     ]
    },
    {
     "name": "stdout",
     "output_type": "stream",
     "text": [
      "Epoch 1/50\n",
      "500/500 [==============================] - 80s 121ms/step - loss: 0.9970 - accuracy: 0.6681 - val_loss: 0.7818 - val_accuracy: 0.7524\n",
      "Epoch 2/50\n",
      "500/500 [==============================] - 54s 108ms/step - loss: 0.7269 - accuracy: 0.7465\n",
      "Epoch 3/50\n",
      "500/500 [==============================] - 58s 116ms/step - loss: 0.6464 - accuracy: 0.7665\n",
      "Epoch 4/50\n",
      "500/500 [==============================] - 57s 113ms/step - loss: 0.6301 - accuracy: 0.7749\n",
      "Epoch 5/50\n",
      "500/500 [==============================] - 57s 114ms/step - loss: 0.5863 - accuracy: 0.7871\n",
      "Epoch 6/50\n",
      "500/500 [==============================] - 56s 112ms/step - loss: 0.5649 - accuracy: 0.8036\n",
      "Epoch 7/50\n",
      "500/500 [==============================] - 57s 113ms/step - loss: 0.5860 - accuracy: 0.7855\n",
      "Epoch 8/50\n",
      "500/500 [==============================] - 58s 116ms/step - loss: 0.5187 - accuracy: 0.8108\n",
      "Epoch 9/50\n",
      "500/500 [==============================] - 59s 118ms/step - loss: 0.5207 - accuracy: 0.8145\n",
      "Epoch 10/50\n",
      "500/500 [==============================] - 58s 115ms/step - loss: 0.4891 - accuracy: 0.8252\n",
      "Epoch 11/50\n",
      "500/500 [==============================] - 59s 118ms/step - loss: 0.5015 - accuracy: 0.8164\n",
      "Epoch 12/50\n",
      "500/500 [==============================] - 60s 120ms/step - loss: 0.4333 - accuracy: 0.8473\n",
      "Epoch 13/50\n",
      "500/500 [==============================] - 58s 116ms/step - loss: 0.4407 - accuracy: 0.8403\n",
      "Epoch 14/50\n",
      "500/500 [==============================] - 62s 125ms/step - loss: 0.4475 - accuracy: 0.8344\n",
      "Epoch 15/50\n",
      "500/500 [==============================] - 61s 122ms/step - loss: 0.4030 - accuracy: 0.8569\n",
      "Epoch 16/50\n",
      "500/500 [==============================] - 57s 114ms/step - loss: 0.3972 - accuracy: 0.8564\n",
      "Epoch 17/50\n",
      "500/500 [==============================] - 59s 118ms/step - loss: 0.3761 - accuracy: 0.8619\n",
      "Epoch 18/50\n",
      "500/500 [==============================] - 60s 120ms/step - loss: 0.3791 - accuracy: 0.8693\n",
      "Epoch 19/50\n",
      "500/500 [==============================] - 59s 117ms/step - loss: 0.3461 - accuracy: 0.8725\n",
      "Epoch 20/50\n",
      "500/500 [==============================] - 61s 121ms/step - loss: 0.3667 - accuracy: 0.8660\n",
      "Epoch 21/50\n",
      "500/500 [==============================] - 57s 114ms/step - loss: 0.3475 - accuracy: 0.8721\n",
      "Epoch 22/50\n",
      "500/500 [==============================] - 56s 111ms/step - loss: 0.3511 - accuracy: 0.8786\n",
      "Epoch 23/50\n",
      "500/500 [==============================] - 58s 116ms/step - loss: 0.3433 - accuracy: 0.8758\n",
      "Epoch 24/50\n",
      "500/500 [==============================] - 59s 119ms/step - loss: 0.3246 - accuracy: 0.8867\n",
      "Epoch 25/50\n",
      "500/500 [==============================] - 59s 118ms/step - loss: 0.3073 - accuracy: 0.8897\n",
      "Epoch 26/50\n",
      "500/500 [==============================] - 58s 116ms/step - loss: 0.2804 - accuracy: 0.8980\n",
      "Epoch 27/50\n",
      "500/500 [==============================] - 58s 117ms/step - loss: 0.2849 - accuracy: 0.8958\n",
      "Epoch 28/50\n",
      "500/500 [==============================] - 55s 110ms/step - loss: 0.3196 - accuracy: 0.8902\n",
      "Epoch 29/50\n",
      "500/500 [==============================] - 58s 116ms/step - loss: 0.2801 - accuracy: 0.9008\n",
      "Epoch 30/50\n",
      "500/500 [==============================] - 58s 117ms/step - loss: 0.2705 - accuracy: 0.9015\n",
      "Epoch 31/50\n",
      "500/500 [==============================] - 58s 117ms/step - loss: 0.2709 - accuracy: 0.9005\n",
      "Epoch 32/50\n",
      "500/500 [==============================] - 59s 117ms/step - loss: 0.2491 - accuracy: 0.9099\n",
      "Epoch 33/50\n",
      "500/500 [==============================] - 56s 112ms/step - loss: 0.2639 - accuracy: 0.9061\n",
      "Epoch 34/50\n",
      "500/500 [==============================] - 57s 114ms/step - loss: 0.2340 - accuracy: 0.9146\n",
      "Epoch 35/50\n",
      "500/500 [==============================] - 59s 117ms/step - loss: 0.2435 - accuracy: 0.9109\n",
      "Epoch 36/50\n",
      "500/500 [==============================] - 58s 117ms/step - loss: 0.2541 - accuracy: 0.9105\n",
      "Epoch 37/50\n",
      "500/500 [==============================] - 60s 120ms/step - loss: 0.2104 - accuracy: 0.9247\n",
      "Epoch 38/50\n",
      "500/500 [==============================] - 60s 120ms/step - loss: 0.2187 - accuracy: 0.9245\n",
      "Epoch 39/50\n",
      "500/500 [==============================] - 55s 111ms/step - loss: 0.2172 - accuracy: 0.9211\n",
      "Epoch 40/50\n",
      "500/500 [==============================] - 60s 121ms/step - loss: 0.1917 - accuracy: 0.9277\n",
      "Epoch 41/50\n",
      "500/500 [==============================] - 61s 123ms/step - loss: 0.1810 - accuracy: 0.9325\n",
      "Epoch 42/50\n",
      "500/500 [==============================] - 61s 122ms/step - loss: 0.1937 - accuracy: 0.9278\n",
      "Epoch 43/50\n",
      "500/500 [==============================] - 61s 122ms/step - loss: 0.1883 - accuracy: 0.9363\n",
      "Epoch 44/50\n",
      "500/500 [==============================] - 56s 112ms/step - loss: 0.1726 - accuracy: 0.9426\n",
      "Epoch 45/50\n",
      "500/500 [==============================] - 61s 122ms/step - loss: 0.1903 - accuracy: 0.9337\n",
      "Epoch 46/50\n",
      "500/500 [==============================] - 62s 124ms/step - loss: 0.1629 - accuracy: 0.9355\n",
      "Epoch 47/50\n",
      "500/500 [==============================] - 54s 109ms/step - loss: 0.1753 - accuracy: 0.9351\n",
      "Epoch 48/50\n",
      "500/500 [==============================] - 63s 126ms/step - loss: 0.1817 - accuracy: 0.9378\n",
      "Epoch 49/50\n",
      "500/500 [==============================] - 56s 112ms/step - loss: 0.1720 - accuracy: 0.9394\n",
      "Epoch 50/50\n",
      "500/500 [==============================] - 56s 111ms/step - loss: 0.1821 - accuracy: 0.9397\n",
      "63/63 [==============================] - 2s 32ms/step - loss: 0.5612 - accuracy: 0.8477\n",
      "Evaluation on test dataset: Accuracy: 0.8477 || Loss = 0.5612\n",
      "~~~~~~~~~~~~~~~~~~~~~~~~~~~~~~\n",
      "Printing confusion matrix. The values after are the accuracies, in order\n",
      "[[ 133   36    4    7    1   11    2]\n",
      " [  17 1310    9   30    5    6    3]\n",
      " [   0    4   14    0    0    0    0]\n",
      " [   9   92    5  103    0    2    2]\n",
      " [   0    1    0    0   25    0    0]\n",
      " [  10   11    4    3    0   82    3]\n",
      " [   8    2    5    4    0    9   31]]\n",
      "Accuracies:\n",
      "bkl: 0.685567\n",
      "nv: 0.949275\n",
      "df: 0.777778\n",
      "mel: 0.483568\n",
      "vasc: 0.961538\n",
      "bcc: 0.725664\n",
      "akiec: 0.525424\n",
      "~~~~~~~~~~~~~~~~~~~~~~~~~~~~~~\n",
      "\n",
      "~~ Calculating the F1-Weighted scode ~~\n",
      "\n",
      "F1 Weighted: 0.8421889264113717\n"
     ]
    },
    {
     "data": {
      "image/png": "[encoded data removed]",
      "text/plain": [
       "<Figure size 1080x360 with 2 Axes>"
      ]
     },
     "metadata": {
      "needs_background": "light"
     },
     "output_type": "display_data"
    }
   ],
   "source": [
    "from keras.applications import ResNet50V2\n",
    "\n",
    "mod = efn.EfficientNetB2(input_shape = (128,128,3), \n",
    "                                            weights=weights_models,\n",
    "                                            include_top=False)\n",
    "\n",
    "train_and_test(x_train,y_train,x_test,y_test,mod,\"EfficientNetB2\")"
   ]
  },
  {
   "cell_type": "code",
   "execution_count": null,
   "id": "c171ced6",
   "metadata": {
    "papermill": {
     "duration": 7.022142,
     "end_time": "2021-08-16T15:58:04.591290",
     "exception": false,
     "start_time": "2021-08-16T15:57:57.569148",
     "status": "completed"
    },
    "tags": []
   },
   "outputs": [],
   "source": []
  },
  {
   "cell_type": "code",
   "execution_count": null,
   "id": "61a066f4",
   "metadata": {
    "papermill": {
     "duration": 7.179607,
     "end_time": "2021-08-16T15:58:19.048328",
     "exception": false,
     "start_time": "2021-08-16T15:58:11.868721",
     "status": "completed"
    },
    "tags": []
   },
   "outputs": [],
   "source": []
  },
  {
   "cell_type": "code",
   "execution_count": null,
   "id": "7352e0b9",
   "metadata": {
    "papermill": {
     "duration": 7.572634,
     "end_time": "2021-08-16T15:58:33.618224",
     "exception": false,
     "start_time": "2021-08-16T15:58:26.045590",
     "status": "completed"
    },
    "tags": []
   },
   "outputs": [],
   "source": []
  }
 ],
 "metadata": {
  "kernelspec": {
   "display_name": "Python 3",
   "language": "python",
   "name": "python3"
  },
  "language_info": {
   "codemirror_mode": {
    "name": "ipython",
    "version": 3
   },
   "file_extension": ".py",
   "mimetype": "text/x-python",
   "name": "python",
   "nbconvert_exporter": "python",
   "pygments_lexer": "ipython3",
   "version": "3.7.10"
  },
  "papermill": {
   "default_parameters": {},
   "duration": 3109.310806,
   "end_time": "2021-08-16T15:58:45.369293",
   "environment_variables": {},
   "exception": null,
   "input_path": "__notebook__.ipynb",
   "output_path": "__notebook__.ipynb",
   "parameters": {},
   "start_time": "2021-08-16T15:06:56.058487",
   "version": "2.3.3"
  }
 },
 "nbformat": 4,
 "nbformat_minor": 5
}
